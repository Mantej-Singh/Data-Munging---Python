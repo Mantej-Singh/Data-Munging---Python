{
 "cells": [
  {
   "cell_type": "markdown",
   "metadata": {},
   "source": [
    "# Interactive Graphs"
   ]
  },
  {
   "cell_type": "code",
   "execution_count": 141,
   "metadata": {
    "collapsed": true
   },
   "outputs": [],
   "source": [
    "import pandas as pd\n",
    "from datetime import datetime"
   ]
  },
  {
   "cell_type": "code",
   "execution_count": 303,
   "metadata": {
    "collapsed": true
   },
   "outputs": [],
   "source": [
    "#df=pd.read_csv('Capstone_Data.csv',parse_dates=[5])\n",
    "df=pd.read_csv('Capstone_Data.csv')"
   ]
  },
  {
   "cell_type": "markdown",
   "metadata": {},
   "source": [
    "### here colum Date is in Object"
   ]
  },
  {
   "cell_type": "code",
   "execution_count": 304,
   "metadata": {
    "collapsed": false
   },
   "outputs": [
    {
     "data": {
      "text/plain": [
       "User_ID                     int64\n",
       "Cardholder_Name            object\n",
       "Description                object\n",
       "Amount                    float64\n",
       "Vendor                     object\n",
       "Date                       object\n",
       "Merchant_Category_Code     object\n",
       "Month                      object\n",
       "dtype: object"
      ]
     },
     "execution_count": 304,
     "metadata": {},
     "output_type": "execute_result"
    }
   ],
   "source": [
    "df.dtypes"
   ]
  },
  {
   "cell_type": "code",
   "execution_count": 305,
   "metadata": {
    "collapsed": false
   },
   "outputs": [
    {
     "data": {
      "text/html": [
       "<div>\n",
       "<table border=\"1\" class=\"dataframe\">\n",
       "  <thead>\n",
       "    <tr style=\"text-align: right;\">\n",
       "      <th></th>\n",
       "      <th>User_ID</th>\n",
       "      <th>Cardholder_Name</th>\n",
       "      <th>Description</th>\n",
       "      <th>Amount</th>\n",
       "      <th>Vendor</th>\n",
       "      <th>Date</th>\n",
       "      <th>Merchant_Category_Code</th>\n",
       "      <th>Month</th>\n",
       "    </tr>\n",
       "  </thead>\n",
       "  <tbody>\n",
       "    <tr>\n",
       "      <th>0</th>\n",
       "      <td>1024</td>\n",
       "      <td>AARON</td>\n",
       "      <td>GENERAL PURCHASE</td>\n",
       "      <td>235.0</td>\n",
       "      <td>PBD IIA INTRNLAUDITORS</td>\n",
       "      <td>21/1/2014</td>\n",
       "      <td>BOOKS, PERIODICALS AND NEWSPAPERS</td>\n",
       "      <td>Jan</td>\n",
       "    </tr>\n",
       "    <tr>\n",
       "      <th>1</th>\n",
       "      <td>1024</td>\n",
       "      <td>AARON</td>\n",
       "      <td>GENERAL PURCHASE</td>\n",
       "      <td>890.0</td>\n",
       "      <td>FINANCIAL ACCOUNTING F</td>\n",
       "      <td>2/4/2014</td>\n",
       "      <td>CHARITABLE AND SOCIAL SERVICE ORGANIZATIONS</td>\n",
       "      <td>Apr</td>\n",
       "    </tr>\n",
       "    <tr>\n",
       "      <th>2</th>\n",
       "      <td>1024</td>\n",
       "      <td>AARON</td>\n",
       "      <td>GENERAL PURCHASE</td>\n",
       "      <td>265.0</td>\n",
       "      <td>PBD IIA INTRNLAUDITORS</td>\n",
       "      <td>19/5/2014</td>\n",
       "      <td>BOOKS, PERIODICALS AND NEWSPAPERS</td>\n",
       "      <td>May</td>\n",
       "    </tr>\n",
       "    <tr>\n",
       "      <th>3</th>\n",
       "      <td>85424</td>\n",
       "      <td>Abbott</td>\n",
       "      <td>GENERAL PURCHASE</td>\n",
       "      <td>390.0</td>\n",
       "      <td>COLLEGEBOARD PRODUCTS</td>\n",
       "      <td>29/7/2013</td>\n",
       "      <td>SCHOOLS AND EDUCATIONAL SERVICES NOT ELSEWHERE...</td>\n",
       "      <td>Jul</td>\n",
       "    </tr>\n",
       "    <tr>\n",
       "      <th>4</th>\n",
       "      <td>85424</td>\n",
       "      <td>Abbott</td>\n",
       "      <td>AIR TRAVEL</td>\n",
       "      <td>297.6</td>\n",
       "      <td>DELTA AIR   0062335020780</td>\n",
       "      <td>7/5/2013</td>\n",
       "      <td>DELTA</td>\n",
       "      <td>May</td>\n",
       "    </tr>\n",
       "  </tbody>\n",
       "</table>\n",
       "</div>"
      ],
      "text/plain": [
       "   User_ID Cardholder_Name       Description  Amount  \\\n",
       "0     1024           AARON  GENERAL PURCHASE   235.0   \n",
       "1     1024           AARON  GENERAL PURCHASE   890.0   \n",
       "2     1024           AARON  GENERAL PURCHASE   265.0   \n",
       "3    85424          Abbott  GENERAL PURCHASE   390.0   \n",
       "4    85424          Abbott        AIR TRAVEL   297.6   \n",
       "\n",
       "                      Vendor       Date  \\\n",
       "0     PBD IIA INTRNLAUDITORS  21/1/2014   \n",
       "1     FINANCIAL ACCOUNTING F   2/4/2014   \n",
       "2     PBD IIA INTRNLAUDITORS  19/5/2014   \n",
       "3      COLLEGEBOARD PRODUCTS  29/7/2013   \n",
       "4  DELTA AIR   0062335020780   7/5/2013   \n",
       "\n",
       "                              Merchant_Category_Code Month  \n",
       "0                  BOOKS, PERIODICALS AND NEWSPAPERS   Jan  \n",
       "1        CHARITABLE AND SOCIAL SERVICE ORGANIZATIONS   Apr  \n",
       "2                  BOOKS, PERIODICALS AND NEWSPAPERS   May  \n",
       "3  SCHOOLS AND EDUCATIONAL SERVICES NOT ELSEWHERE...   Jul  \n",
       "4                                              DELTA   May  "
      ]
     },
     "execution_count": 305,
     "metadata": {},
     "output_type": "execute_result"
    }
   ],
   "source": [
    "df.head()"
   ]
  },
  {
   "cell_type": "markdown",
   "metadata": {},
   "source": [
    "### Converting and cleaning Date column"
   ]
  },
  {
   "cell_type": "code",
   "execution_count": 306,
   "metadata": {
    "collapsed": false
   },
   "outputs": [],
   "source": [
    "#df['Dateq']=pd.to_datetime(df['Date'])"
   ]
  },
  {
   "cell_type": "code",
   "execution_count": 307,
   "metadata": {
    "collapsed": false
   },
   "outputs": [],
   "source": [
    "#ww=datetime.strptime('21/1/2014','%d/%m/%Y')\n",
    "##datetime.strptime(df['Date'],'%d/%m/%Y')"
   ]
  },
  {
   "cell_type": "code",
   "execution_count": 277,
   "metadata": {
    "collapsed": false
   },
   "outputs": [],
   "source": [
    "#pd.to_datetime(ww)"
   ]
  },
  {
   "cell_type": "code",
   "execution_count": 310,
   "metadata": {
    "collapsed": false
   },
   "outputs": [],
   "source": [
    "cleaned_date=[]\n",
    "for i in df['Date']:\n",
    "    cleaned=datetime.strptime(i,'%d/%m/%Y').date()\n",
    "    cleaned=cleaned.strftime(\"%d-%m-%Y\")\n",
    "    cleaned_date.append(cleaned)\n"
   ]
  },
  {
   "cell_type": "code",
   "execution_count": 311,
   "metadata": {
    "collapsed": false
   },
   "outputs": [],
   "source": [
    "df['Date']=(cleaned_date)\n",
    "df['Date']=pd.to_datetime(df['Date'], format='%d-%m-%Y')\n",
    "#df['Month']=pd.to_datetime(df['Month'], format='%b')"
   ]
  },
  {
   "cell_type": "code",
   "execution_count": 318,
   "metadata": {
    "collapsed": false
   },
   "outputs": [],
   "source": [
    "#df['Month']=df['Month'].apply(lambda x: x.strftime('%B'))   \n",
    "df['Year_month']=df['Date'].apply(lambda x: x.strftime('%b-%y'))   \n",
    "df['Month']=df['Date'].apply(lambda x: x.strftime('%B'))   "
   ]
  },
  {
   "cell_type": "code",
   "execution_count": 319,
   "metadata": {
    "collapsed": false
   },
   "outputs": [
    {
     "data": {
      "text/plain": [
       "User_ID                            int64\n",
       "Cardholder_Name                   object\n",
       "Description                       object\n",
       "Amount                           float64\n",
       "Vendor                            object\n",
       "Date                      datetime64[ns]\n",
       "Merchant_Category_Code            object\n",
       "Month                             object\n",
       "dtype: object"
      ]
     },
     "execution_count": 319,
     "metadata": {},
     "output_type": "execute_result"
    }
   ],
   "source": [
    "df.dtypes"
   ]
  },
  {
   "cell_type": "code",
   "execution_count": 320,
   "metadata": {
    "collapsed": false,
    "scrolled": true
   },
   "outputs": [
    {
     "data": {
      "text/html": [
       "<div>\n",
       "<table border=\"1\" class=\"dataframe\">\n",
       "  <thead>\n",
       "    <tr style=\"text-align: right;\">\n",
       "      <th></th>\n",
       "      <th>User_ID</th>\n",
       "      <th>Cardholder_Name</th>\n",
       "      <th>Description</th>\n",
       "      <th>Amount</th>\n",
       "      <th>Vendor</th>\n",
       "      <th>Date</th>\n",
       "      <th>Merchant_Category_Code</th>\n",
       "      <th>Month</th>\n",
       "    </tr>\n",
       "  </thead>\n",
       "  <tbody>\n",
       "    <tr>\n",
       "      <th>0</th>\n",
       "      <td>1024</td>\n",
       "      <td>AARON</td>\n",
       "      <td>GENERAL PURCHASE</td>\n",
       "      <td>235.0</td>\n",
       "      <td>PBD IIA INTRNLAUDITORS</td>\n",
       "      <td>2014-01-21</td>\n",
       "      <td>BOOKS, PERIODICALS AND NEWSPAPERS</td>\n",
       "      <td>January</td>\n",
       "    </tr>\n",
       "    <tr>\n",
       "      <th>1</th>\n",
       "      <td>1024</td>\n",
       "      <td>AARON</td>\n",
       "      <td>GENERAL PURCHASE</td>\n",
       "      <td>890.0</td>\n",
       "      <td>FINANCIAL ACCOUNTING F</td>\n",
       "      <td>2014-04-02</td>\n",
       "      <td>CHARITABLE AND SOCIAL SERVICE ORGANIZATIONS</td>\n",
       "      <td>April</td>\n",
       "    </tr>\n",
       "    <tr>\n",
       "      <th>2</th>\n",
       "      <td>1024</td>\n",
       "      <td>AARON</td>\n",
       "      <td>GENERAL PURCHASE</td>\n",
       "      <td>265.0</td>\n",
       "      <td>PBD IIA INTRNLAUDITORS</td>\n",
       "      <td>2014-05-19</td>\n",
       "      <td>BOOKS, PERIODICALS AND NEWSPAPERS</td>\n",
       "      <td>May</td>\n",
       "    </tr>\n",
       "    <tr>\n",
       "      <th>3</th>\n",
       "      <td>85424</td>\n",
       "      <td>Abbott</td>\n",
       "      <td>GENERAL PURCHASE</td>\n",
       "      <td>390.0</td>\n",
       "      <td>COLLEGEBOARD PRODUCTS</td>\n",
       "      <td>2013-07-29</td>\n",
       "      <td>SCHOOLS AND EDUCATIONAL SERVICES NOT ELSEWHERE...</td>\n",
       "      <td>July</td>\n",
       "    </tr>\n",
       "    <tr>\n",
       "      <th>4</th>\n",
       "      <td>85424</td>\n",
       "      <td>Abbott</td>\n",
       "      <td>AIR TRAVEL</td>\n",
       "      <td>297.6</td>\n",
       "      <td>DELTA AIR   0062335020780</td>\n",
       "      <td>2013-05-07</td>\n",
       "      <td>DELTA</td>\n",
       "      <td>May</td>\n",
       "    </tr>\n",
       "  </tbody>\n",
       "</table>\n",
       "</div>"
      ],
      "text/plain": [
       "   User_ID Cardholder_Name       Description  Amount  \\\n",
       "0     1024           AARON  GENERAL PURCHASE   235.0   \n",
       "1     1024           AARON  GENERAL PURCHASE   890.0   \n",
       "2     1024           AARON  GENERAL PURCHASE   265.0   \n",
       "3    85424          Abbott  GENERAL PURCHASE   390.0   \n",
       "4    85424          Abbott        AIR TRAVEL   297.6   \n",
       "\n",
       "                      Vendor       Date  \\\n",
       "0     PBD IIA INTRNLAUDITORS 2014-01-21   \n",
       "1     FINANCIAL ACCOUNTING F 2014-04-02   \n",
       "2     PBD IIA INTRNLAUDITORS 2014-05-19   \n",
       "3      COLLEGEBOARD PRODUCTS 2013-07-29   \n",
       "4  DELTA AIR   0062335020780 2013-05-07   \n",
       "\n",
       "                              Merchant_Category_Code    Month  \n",
       "0                  BOOKS, PERIODICALS AND NEWSPAPERS  January  \n",
       "1        CHARITABLE AND SOCIAL SERVICE ORGANIZATIONS    April  \n",
       "2                  BOOKS, PERIODICALS AND NEWSPAPERS      May  \n",
       "3  SCHOOLS AND EDUCATIONAL SERVICES NOT ELSEWHERE...     July  \n",
       "4                                              DELTA      May  "
      ]
     },
     "execution_count": 320,
     "metadata": {},
     "output_type": "execute_result"
    }
   ],
   "source": [
    "df.head()"
   ]
  },
  {
   "cell_type": "code",
   "execution_count": 22,
   "metadata": {
    "collapsed": false
   },
   "outputs": [],
   "source": [
    "#pd.DatetimeIndex(df['Date']).month\n",
    "#df['month'] = df['Date'].dt.month\n",
    "#i was getting only numbers"
   ]
  },
  {
   "cell_type": "code",
   "execution_count": 239,
   "metadata": {
    "collapsed": false
   },
   "outputs": [],
   "source": []
  },
  {
   "cell_type": "code",
   "execution_count": 283,
   "metadata": {
    "collapsed": false
   },
   "outputs": [
    {
     "data": {
      "text/html": [
       "<div>\n",
       "<table border=\"1\" class=\"dataframe\">\n",
       "  <thead>\n",
       "    <tr style=\"text-align: right;\">\n",
       "      <th></th>\n",
       "      <th>User_ID</th>\n",
       "      <th>Cardholder_Name</th>\n",
       "      <th>Description</th>\n",
       "      <th>Amount</th>\n",
       "      <th>Vendor</th>\n",
       "      <th>Date</th>\n",
       "      <th>Merchant_Category_Code</th>\n",
       "      <th>Month</th>\n",
       "      <th>Year_month</th>\n",
       "    </tr>\n",
       "  </thead>\n",
       "  <tbody>\n",
       "    <tr>\n",
       "      <th>0</th>\n",
       "      <td>1024</td>\n",
       "      <td>AARON</td>\n",
       "      <td>GENERAL PURCHASE</td>\n",
       "      <td>235.0</td>\n",
       "      <td>PBD IIA INTRNLAUDITORS</td>\n",
       "      <td>2014-01-21</td>\n",
       "      <td>BOOKS, PERIODICALS AND NEWSPAPERS</td>\n",
       "      <td>January</td>\n",
       "      <td>Jan-14</td>\n",
       "    </tr>\n",
       "    <tr>\n",
       "      <th>1</th>\n",
       "      <td>1024</td>\n",
       "      <td>AARON</td>\n",
       "      <td>GENERAL PURCHASE</td>\n",
       "      <td>890.0</td>\n",
       "      <td>FINANCIAL ACCOUNTING F</td>\n",
       "      <td>2014-04-02</td>\n",
       "      <td>CHARITABLE AND SOCIAL SERVICE ORGANIZATIONS</td>\n",
       "      <td>April</td>\n",
       "      <td>Apr-14</td>\n",
       "    </tr>\n",
       "  </tbody>\n",
       "</table>\n",
       "</div>"
      ],
      "text/plain": [
       "   User_ID Cardholder_Name       Description  Amount                  Vendor  \\\n",
       "0     1024           AARON  GENERAL PURCHASE   235.0  PBD IIA INTRNLAUDITORS   \n",
       "1     1024           AARON  GENERAL PURCHASE   890.0  FINANCIAL ACCOUNTING F   \n",
       "\n",
       "        Date                       Merchant_Category_Code    Month Year_month  \n",
       "0 2014-01-21            BOOKS, PERIODICALS AND NEWSPAPERS  January     Jan-14  \n",
       "1 2014-04-02  CHARITABLE AND SOCIAL SERVICE ORGANIZATIONS    April     Apr-14  "
      ]
     },
     "execution_count": 283,
     "metadata": {},
     "output_type": "execute_result"
    }
   ],
   "source": [
    "df[:2]"
   ]
  },
  {
   "cell_type": "markdown",
   "metadata": {},
   "source": [
    "### ADKINS is not equal to Adkin, that why i converted column 1 to lower case "
   ]
  },
  {
   "cell_type": "code",
   "execution_count": 284,
   "metadata": {
    "collapsed": false
   },
   "outputs": [
    {
     "data": {
      "text/html": [
       "<div>\n",
       "<table border=\"1\" class=\"dataframe\">\n",
       "  <thead>\n",
       "    <tr style=\"text-align: right;\">\n",
       "      <th></th>\n",
       "      <th>User_ID</th>\n",
       "      <th>Cardholder_Name</th>\n",
       "      <th>Description</th>\n",
       "      <th>Amount</th>\n",
       "      <th>Vendor</th>\n",
       "      <th>Date</th>\n",
       "      <th>Merchant_Category_Code</th>\n",
       "      <th>Month</th>\n",
       "      <th>Year_month</th>\n",
       "    </tr>\n",
       "  </thead>\n",
       "  <tbody>\n",
       "    <tr>\n",
       "      <th>1483</th>\n",
       "      <td>85928</td>\n",
       "      <td>ADKINS</td>\n",
       "      <td>SHARPWRITER MECH PEN DZ</td>\n",
       "      <td>11.86</td>\n",
       "      <td>OFFICEMAX CT IN#357326</td>\n",
       "      <td>2014-06-13</td>\n",
       "      <td>STATIONERY,OFFICE AND SCHOOL SUPPLY STORES</td>\n",
       "      <td>June</td>\n",
       "      <td>Jun-14</td>\n",
       "    </tr>\n",
       "  </tbody>\n",
       "</table>\n",
       "</div>"
      ],
      "text/plain": [
       "      User_ID Cardholder_Name              Description  Amount  \\\n",
       "1483    85928          ADKINS  SHARPWRITER MECH PEN DZ   11.86   \n",
       "\n",
       "                      Vendor       Date  \\\n",
       "1483  OFFICEMAX CT IN#357326 2014-06-13   \n",
       "\n",
       "                          Merchant_Category_Code Month Year_month  \n",
       "1483  STATIONERY,OFFICE AND SCHOOL SUPPLY STORES  June     Jun-14  "
      ]
     },
     "execution_count": 284,
     "metadata": {},
     "output_type": "execute_result"
    }
   ],
   "source": [
    "#This is the problem\n",
    "df[df.Cardholder_Name=='ADKINS']"
   ]
  },
  {
   "cell_type": "code",
   "execution_count": 285,
   "metadata": {
    "collapsed": false
   },
   "outputs": [],
   "source": [
    "df['Cardholder_Name']=df['Cardholder_Name'].str.lower()"
   ]
  },
  {
   "cell_type": "code",
   "execution_count": 286,
   "metadata": {
    "collapsed": false
   },
   "outputs": [
    {
     "data": {
      "text/plain": [
       "User_ID    4554184.00\n",
       "Amount       23604.53\n",
       "dtype: float64"
      ]
     },
     "execution_count": 286,
     "metadata": {},
     "output_type": "execute_result"
    }
   ],
   "source": [
    "df[df.Cardholder_Name=='adkins'].sum()"
   ]
  },
  {
   "cell_type": "code",
   "execution_count": 287,
   "metadata": {
    "collapsed": false
   },
   "outputs": [],
   "source": [
    "cardholder=df.groupby('Cardholder_Name').sum()"
   ]
  },
  {
   "cell_type": "code",
   "execution_count": 288,
   "metadata": {
    "collapsed": false
   },
   "outputs": [],
   "source": [
    "cardholder=cardholder.reset_index()"
   ]
  },
  {
   "cell_type": "code",
   "execution_count": 289,
   "metadata": {
    "collapsed": false
   },
   "outputs": [],
   "source": [
    "cardholder=cardholder.drop('User_ID',axis=1)"
   ]
  },
  {
   "cell_type": "code",
   "execution_count": 290,
   "metadata": {
    "collapsed": false
   },
   "outputs": [
    {
     "data": {
      "text/html": [
       "<div>\n",
       "<table border=\"1\" class=\"dataframe\">\n",
       "  <thead>\n",
       "    <tr style=\"text-align: right;\">\n",
       "      <th></th>\n",
       "      <th>Cardholder_Name</th>\n",
       "      <th>Amount</th>\n",
       "    </tr>\n",
       "  </thead>\n",
       "  <tbody>\n",
       "    <tr>\n",
       "      <th>0</th>\n",
       "      <td>aaron</td>\n",
       "      <td>1390.00</td>\n",
       "    </tr>\n",
       "    <tr>\n",
       "      <th>1</th>\n",
       "      <td>abbott</td>\n",
       "      <td>47931.25</td>\n",
       "    </tr>\n",
       "    <tr>\n",
       "      <th>2</th>\n",
       "      <td>abdolvand</td>\n",
       "      <td>7462.99</td>\n",
       "    </tr>\n",
       "    <tr>\n",
       "      <th>3</th>\n",
       "      <td>abernathy</td>\n",
       "      <td>31778.72</td>\n",
       "    </tr>\n",
       "    <tr>\n",
       "      <th>4</th>\n",
       "      <td>abid</td>\n",
       "      <td>57.45</td>\n",
       "    </tr>\n",
       "  </tbody>\n",
       "</table>\n",
       "</div>"
      ],
      "text/plain": [
       "  Cardholder_Name    Amount\n",
       "0           aaron   1390.00\n",
       "1          abbott  47931.25\n",
       "2       abdolvand   7462.99\n",
       "3       abernathy  31778.72\n",
       "4            abid     57.45"
      ]
     },
     "execution_count": 290,
     "metadata": {},
     "output_type": "execute_result"
    }
   ],
   "source": [
    "cardholder.head()"
   ]
  },
  {
   "cell_type": "code",
   "execution_count": 291,
   "metadata": {
    "collapsed": false
   },
   "outputs": [],
   "source": [
    "%matplotlib inline"
   ]
  },
  {
   "cell_type": "code",
   "execution_count": 131,
   "metadata": {
    "collapsed": false
   },
   "outputs": [],
   "source": [
    "#cardholder.boxplot(column='Amount', by = 'Cardholder_Name')"
   ]
  },
  {
   "cell_type": "code",
   "execution_count": 55,
   "metadata": {
    "collapsed": false
   },
   "outputs": [],
   "source": [
    "#cardholder.plot(kind='bar')"
   ]
  },
  {
   "cell_type": "code",
   "execution_count": 56,
   "metadata": {
    "collapsed": false
   },
   "outputs": [],
   "source": [
    "import plotly.plotly as py\n",
    "import plotly.graph_objs as go\n",
    "#Setting plotly credentials\n",
    "py.sign_in('mantejsingh','hQnYIqbxnsuRvQxkVFVW')"
   ]
  },
  {
   "cell_type": "code",
   "execution_count": 123,
   "metadata": {
    "collapsed": false
   },
   "outputs": [],
   "source": [
    "data = [go.Scatter(x=cardholder['Cardholder_Name'],y=cardholder['Amount'])]"
   ]
  },
  {
   "cell_type": "code",
   "execution_count": 126,
   "metadata": {
    "collapsed": true
   },
   "outputs": [],
   "source": [
    "layout = go.Layout(\n",
    "title='CardHolders Amount',\n",
    "xaxis=dict(title='Amount_Frequency'),\n",
    "yaxis=dict(title='Count')\n",
    ")"
   ]
  },
  {
   "cell_type": "code",
   "execution_count": 127,
   "metadata": {
    "collapsed": false
   },
   "outputs": [
    {
     "data": {
      "text/html": [
       "<iframe id=\"igraph\" scrolling=\"no\" style=\"border:none;\" seamless=\"seamless\" src=\"https://plot.ly/~mantejsingh/74.embed\" height=\"525px\" width=\"100%\"></iframe>"
      ],
      "text/plain": [
       "<plotly.tools.PlotlyDisplay object>"
      ]
     },
     "execution_count": 127,
     "metadata": {},
     "output_type": "execute_result"
    }
   ],
   "source": [
    "fig = go.Figure(data=data, layout=layout)\n",
    "py.iplot(fig,filename='InteractiveGraph_1')"
   ]
  },
  {
   "cell_type": "code",
   "execution_count": 292,
   "metadata": {
    "collapsed": false
   },
   "outputs": [
    {
     "data": {
      "text/html": [
       "<div>\n",
       "<table border=\"1\" class=\"dataframe\">\n",
       "  <thead>\n",
       "    <tr style=\"text-align: right;\">\n",
       "      <th></th>\n",
       "      <th>User_ID</th>\n",
       "      <th>Cardholder_Name</th>\n",
       "      <th>Description</th>\n",
       "      <th>Amount</th>\n",
       "      <th>Vendor</th>\n",
       "      <th>Date</th>\n",
       "      <th>Merchant_Category_Code</th>\n",
       "      <th>Month</th>\n",
       "      <th>Year_month</th>\n",
       "    </tr>\n",
       "  </thead>\n",
       "  <tbody>\n",
       "    <tr>\n",
       "      <th>0</th>\n",
       "      <td>1024</td>\n",
       "      <td>aaron</td>\n",
       "      <td>GENERAL PURCHASE</td>\n",
       "      <td>235.0</td>\n",
       "      <td>PBD IIA INTRNLAUDITORS</td>\n",
       "      <td>2014-01-21</td>\n",
       "      <td>BOOKS, PERIODICALS AND NEWSPAPERS</td>\n",
       "      <td>January</td>\n",
       "      <td>Jan-14</td>\n",
       "    </tr>\n",
       "    <tr>\n",
       "      <th>1</th>\n",
       "      <td>1024</td>\n",
       "      <td>aaron</td>\n",
       "      <td>GENERAL PURCHASE</td>\n",
       "      <td>890.0</td>\n",
       "      <td>FINANCIAL ACCOUNTING F</td>\n",
       "      <td>2014-04-02</td>\n",
       "      <td>CHARITABLE AND SOCIAL SERVICE ORGANIZATIONS</td>\n",
       "      <td>April</td>\n",
       "      <td>Apr-14</td>\n",
       "    </tr>\n",
       "    <tr>\n",
       "      <th>2</th>\n",
       "      <td>1024</td>\n",
       "      <td>aaron</td>\n",
       "      <td>GENERAL PURCHASE</td>\n",
       "      <td>265.0</td>\n",
       "      <td>PBD IIA INTRNLAUDITORS</td>\n",
       "      <td>2014-05-19</td>\n",
       "      <td>BOOKS, PERIODICALS AND NEWSPAPERS</td>\n",
       "      <td>May</td>\n",
       "      <td>May-14</td>\n",
       "    </tr>\n",
       "    <tr>\n",
       "      <th>3</th>\n",
       "      <td>85424</td>\n",
       "      <td>abbott</td>\n",
       "      <td>GENERAL PURCHASE</td>\n",
       "      <td>390.0</td>\n",
       "      <td>COLLEGEBOARD PRODUCTS</td>\n",
       "      <td>2013-07-29</td>\n",
       "      <td>SCHOOLS AND EDUCATIONAL SERVICES NOT ELSEWHERE...</td>\n",
       "      <td>July</td>\n",
       "      <td>Jul-13</td>\n",
       "    </tr>\n",
       "    <tr>\n",
       "      <th>4</th>\n",
       "      <td>85424</td>\n",
       "      <td>abbott</td>\n",
       "      <td>AIR TRAVEL</td>\n",
       "      <td>297.6</td>\n",
       "      <td>DELTA AIR   0062335020780</td>\n",
       "      <td>2013-05-07</td>\n",
       "      <td>DELTA</td>\n",
       "      <td>May</td>\n",
       "      <td>May-13</td>\n",
       "    </tr>\n",
       "  </tbody>\n",
       "</table>\n",
       "</div>"
      ],
      "text/plain": [
       "   User_ID Cardholder_Name       Description  Amount  \\\n",
       "0     1024           aaron  GENERAL PURCHASE   235.0   \n",
       "1     1024           aaron  GENERAL PURCHASE   890.0   \n",
       "2     1024           aaron  GENERAL PURCHASE   265.0   \n",
       "3    85424          abbott  GENERAL PURCHASE   390.0   \n",
       "4    85424          abbott        AIR TRAVEL   297.6   \n",
       "\n",
       "                      Vendor       Date  \\\n",
       "0     PBD IIA INTRNLAUDITORS 2014-01-21   \n",
       "1     FINANCIAL ACCOUNTING F 2014-04-02   \n",
       "2     PBD IIA INTRNLAUDITORS 2014-05-19   \n",
       "3      COLLEGEBOARD PRODUCTS 2013-07-29   \n",
       "4  DELTA AIR   0062335020780 2013-05-07   \n",
       "\n",
       "                              Merchant_Category_Code    Month Year_month  \n",
       "0                  BOOKS, PERIODICALS AND NEWSPAPERS  January     Jan-14  \n",
       "1        CHARITABLE AND SOCIAL SERVICE ORGANIZATIONS    April     Apr-14  \n",
       "2                  BOOKS, PERIODICALS AND NEWSPAPERS      May     May-14  \n",
       "3  SCHOOLS AND EDUCATIONAL SERVICES NOT ELSEWHERE...     July     Jul-13  \n",
       "4                                              DELTA      May     May-13  "
      ]
     },
     "execution_count": 292,
     "metadata": {},
     "output_type": "execute_result"
    }
   ],
   "source": [
    "df.head()"
   ]
  },
  {
   "cell_type": "markdown",
   "metadata": {},
   "source": [
    "## Monthly Transactions"
   ]
  },
  {
   "cell_type": "code",
   "execution_count": 330,
   "metadata": {
    "collapsed": true
   },
   "outputs": [],
   "source": [
    "mnttrans=df.groupby('Month').sum()"
   ]
  },
  {
   "cell_type": "code",
   "execution_count": 334,
   "metadata": {
    "collapsed": false
   },
   "outputs": [
    {
     "data": {
      "text/html": [
       "<div>\n",
       "<table border=\"1\" class=\"dataframe\">\n",
       "  <thead>\n",
       "    <tr style=\"text-align: right;\">\n",
       "      <th></th>\n",
       "      <th>Month</th>\n",
       "      <th>Amount</th>\n",
       "    </tr>\n",
       "  </thead>\n",
       "  <tbody>\n",
       "    <tr>\n",
       "      <th>0</th>\n",
       "      <td>April</td>\n",
       "      <td>4269221.76</td>\n",
       "    </tr>\n",
       "    <tr>\n",
       "      <th>1</th>\n",
       "      <td>August</td>\n",
       "      <td>4077548.11</td>\n",
       "    </tr>\n",
       "  </tbody>\n",
       "</table>\n",
       "</div>"
      ],
      "text/plain": [
       "    Month      Amount\n",
       "0   April  4269221.76\n",
       "1  August  4077548.11"
      ]
     },
     "execution_count": 334,
     "metadata": {},
     "output_type": "execute_result"
    }
   ],
   "source": [
    "mnttrans[:2]"
   ]
  },
  {
   "cell_type": "code",
   "execution_count": 332,
   "metadata": {
    "collapsed": false
   },
   "outputs": [],
   "source": [
    "mnttrans=mnttrans.reset_index()\n",
    "\n",
    "mnttrans=mnttrans.drop('User_ID',axis=1)"
   ]
  },
  {
   "cell_type": "code",
   "execution_count": 347,
   "metadata": {
    "collapsed": false
   },
   "outputs": [
    {
     "data": {
      "text/plain": [
       "Month      object\n",
       "Amount    float64\n",
       "dtype: object"
      ]
     },
     "execution_count": 347,
     "metadata": {},
     "output_type": "execute_result"
    }
   ],
   "source": [
    "mnttrans.dtypes"
   ]
  },
  {
   "cell_type": "code",
   "execution_count": 348,
   "metadata": {
    "collapsed": true
   },
   "outputs": [],
   "source": [
    "#convert Month to datytype format\n",
    "mnttrans['Month']=pd.to_datetime(mnttrans['Month'], format='%B')"
   ]
  },
  {
   "cell_type": "code",
   "execution_count": 349,
   "metadata": {
    "collapsed": false
   },
   "outputs": [
    {
     "data": {
      "text/html": [
       "<div>\n",
       "<table border=\"1\" class=\"dataframe\">\n",
       "  <thead>\n",
       "    <tr style=\"text-align: right;\">\n",
       "      <th></th>\n",
       "      <th>Month</th>\n",
       "      <th>Amount</th>\n",
       "    </tr>\n",
       "  </thead>\n",
       "  <tbody>\n",
       "    <tr>\n",
       "      <th>0</th>\n",
       "      <td>1900-04-01</td>\n",
       "      <td>4269221.76</td>\n",
       "    </tr>\n",
       "    <tr>\n",
       "      <th>1</th>\n",
       "      <td>1900-08-01</td>\n",
       "      <td>4077548.11</td>\n",
       "    </tr>\n",
       "    <tr>\n",
       "      <th>2</th>\n",
       "      <td>1900-12-01</td>\n",
       "      <td>3164084.60</td>\n",
       "    </tr>\n",
       "    <tr>\n",
       "      <th>3</th>\n",
       "      <td>1900-02-01</td>\n",
       "      <td>4151240.48</td>\n",
       "    </tr>\n",
       "    <tr>\n",
       "      <th>4</th>\n",
       "      <td>1900-01-01</td>\n",
       "      <td>4086562.95</td>\n",
       "    </tr>\n",
       "    <tr>\n",
       "      <th>5</th>\n",
       "      <td>1900-07-01</td>\n",
       "      <td>3345432.68</td>\n",
       "    </tr>\n",
       "    <tr>\n",
       "      <th>6</th>\n",
       "      <td>1900-06-01</td>\n",
       "      <td>3721530.33</td>\n",
       "    </tr>\n",
       "    <tr>\n",
       "      <th>7</th>\n",
       "      <td>1900-03-01</td>\n",
       "      <td>5068879.20</td>\n",
       "    </tr>\n",
       "    <tr>\n",
       "      <th>8</th>\n",
       "      <td>1900-05-01</td>\n",
       "      <td>3135951.55</td>\n",
       "    </tr>\n",
       "    <tr>\n",
       "      <th>9</th>\n",
       "      <td>1900-11-01</td>\n",
       "      <td>3376869.48</td>\n",
       "    </tr>\n",
       "    <tr>\n",
       "      <th>10</th>\n",
       "      <td>1900-10-01</td>\n",
       "      <td>5332229.64</td>\n",
       "    </tr>\n",
       "    <tr>\n",
       "      <th>11</th>\n",
       "      <td>1900-09-01</td>\n",
       "      <td>3884649.06</td>\n",
       "    </tr>\n",
       "  </tbody>\n",
       "</table>\n",
       "</div>"
      ],
      "text/plain": [
       "        Month      Amount\n",
       "0  1900-04-01  4269221.76\n",
       "1  1900-08-01  4077548.11\n",
       "2  1900-12-01  3164084.60\n",
       "3  1900-02-01  4151240.48\n",
       "4  1900-01-01  4086562.95\n",
       "5  1900-07-01  3345432.68\n",
       "6  1900-06-01  3721530.33\n",
       "7  1900-03-01  5068879.20\n",
       "8  1900-05-01  3135951.55\n",
       "9  1900-11-01  3376869.48\n",
       "10 1900-10-01  5332229.64\n",
       "11 1900-09-01  3884649.06"
      ]
     },
     "execution_count": 349,
     "metadata": {},
     "output_type": "execute_result"
    }
   ],
   "source": [
    "mnttrans[:]"
   ]
  },
  {
   "cell_type": "code",
   "execution_count": 350,
   "metadata": {
    "collapsed": false
   },
   "outputs": [],
   "source": [
    "#Jan to Decemnber Accending\n",
    "mnttrans=mnttrans.sort_values(by='Month',ascending=True)"
   ]
  },
  {
   "cell_type": "code",
   "execution_count": 351,
   "metadata": {
    "collapsed": true
   },
   "outputs": [],
   "source": [
    "#Converting back to whole month\n",
    "mnttrans['Month']=mnttrans['Month'].apply(lambda x: x.strftime('%B')) "
   ]
  },
  {
   "cell_type": "code",
   "execution_count": 352,
   "metadata": {
    "collapsed": false
   },
   "outputs": [
    {
     "data": {
      "text/html": [
       "<div>\n",
       "<table border=\"1\" class=\"dataframe\">\n",
       "  <thead>\n",
       "    <tr style=\"text-align: right;\">\n",
       "      <th></th>\n",
       "      <th>Month</th>\n",
       "      <th>Amount</th>\n",
       "    </tr>\n",
       "  </thead>\n",
       "  <tbody>\n",
       "    <tr>\n",
       "      <th>4</th>\n",
       "      <td>January</td>\n",
       "      <td>4086562.95</td>\n",
       "    </tr>\n",
       "    <tr>\n",
       "      <th>3</th>\n",
       "      <td>February</td>\n",
       "      <td>4151240.48</td>\n",
       "    </tr>\n",
       "    <tr>\n",
       "      <th>7</th>\n",
       "      <td>March</td>\n",
       "      <td>5068879.20</td>\n",
       "    </tr>\n",
       "    <tr>\n",
       "      <th>0</th>\n",
       "      <td>April</td>\n",
       "      <td>4269221.76</td>\n",
       "    </tr>\n",
       "    <tr>\n",
       "      <th>8</th>\n",
       "      <td>May</td>\n",
       "      <td>3135951.55</td>\n",
       "    </tr>\n",
       "    <tr>\n",
       "      <th>6</th>\n",
       "      <td>June</td>\n",
       "      <td>3721530.33</td>\n",
       "    </tr>\n",
       "    <tr>\n",
       "      <th>5</th>\n",
       "      <td>July</td>\n",
       "      <td>3345432.68</td>\n",
       "    </tr>\n",
       "    <tr>\n",
       "      <th>1</th>\n",
       "      <td>August</td>\n",
       "      <td>4077548.11</td>\n",
       "    </tr>\n",
       "    <tr>\n",
       "      <th>11</th>\n",
       "      <td>September</td>\n",
       "      <td>3884649.06</td>\n",
       "    </tr>\n",
       "    <tr>\n",
       "      <th>10</th>\n",
       "      <td>October</td>\n",
       "      <td>5332229.64</td>\n",
       "    </tr>\n",
       "    <tr>\n",
       "      <th>9</th>\n",
       "      <td>November</td>\n",
       "      <td>3376869.48</td>\n",
       "    </tr>\n",
       "    <tr>\n",
       "      <th>2</th>\n",
       "      <td>December</td>\n",
       "      <td>3164084.60</td>\n",
       "    </tr>\n",
       "  </tbody>\n",
       "</table>\n",
       "</div>"
      ],
      "text/plain": [
       "        Month      Amount\n",
       "4     January  4086562.95\n",
       "3    February  4151240.48\n",
       "7       March  5068879.20\n",
       "0       April  4269221.76\n",
       "8         May  3135951.55\n",
       "6        June  3721530.33\n",
       "5        July  3345432.68\n",
       "1      August  4077548.11\n",
       "11  September  3884649.06\n",
       "10    October  5332229.64\n",
       "9    November  3376869.48\n",
       "2    December  3164084.60"
      ]
     },
     "execution_count": 352,
     "metadata": {},
     "output_type": "execute_result"
    }
   ],
   "source": [
    "mnttrans"
   ]
  },
  {
   "cell_type": "code",
   "execution_count": 355,
   "metadata": {
    "collapsed": false
   },
   "outputs": [
    {
     "data": {
      "text/html": [
       "<iframe id=\"igraph\" scrolling=\"no\" style=\"border:none;\" seamless=\"seamless\" src=\"https://plot.ly/~mantejsingh/76.embed\" height=\"525px\" width=\"100%\"></iframe>"
      ],
      "text/plain": [
       "<plotly.tools.PlotlyDisplay object>"
      ]
     },
     "execution_count": 355,
     "metadata": {},
     "output_type": "execute_result"
    }
   ],
   "source": [
    "data = [go.Scatter(x=mnttrans['Month'],y=mnttrans['Amount'])]\n",
    "layout = go.Layout(\n",
    "title='Monthly Transactions',\n",
    "xaxis=dict(title='Months'),\n",
    "yaxis=dict(title='Amounts')\n",
    ")\n",
    "fig = go.Figure(data=data, layout=layout)\n",
    "py.iplot(fig,filename='InteractiveGraph_2')"
   ]
  },
  {
   "cell_type": "code",
   "execution_count": 361,
   "metadata": {
    "collapsed": false
   },
   "outputs": [
    {
     "data": {
      "text/html": [
       "<iframe id=\"igraph\" scrolling=\"no\" style=\"border:none;\" seamless=\"seamless\" src=\"https://plot.ly/~mantejsingh/78.embed\" height=\"525px\" width=\"100%\"></iframe>"
      ],
      "text/plain": [
       "<plotly.tools.PlotlyDisplay object>"
      ]
     },
     "execution_count": 361,
     "metadata": {},
     "output_type": "execute_result"
    }
   ],
   "source": [
    "Line_graph = go.Scatter(\n",
    "    x=mnttrans['Month'],\n",
    "    y=mnttrans['Amount'],\n",
    "    name='Line Graph'\n",
    ")\n",
    "Bar_plot = go.Bar(\n",
    "    x=mnttrans['Month'],\n",
    "    y=mnttrans['Amount'],\n",
    "    name='Bar Graph'\n",
    ")\n",
    "\n",
    "layout = go.Layout(\n",
    "title='Multi Axis Graph',\n",
    "xaxis=dict(title='Months'),\n",
    "yaxis=dict(title='Amounts')\n",
    ")\n",
    "\n",
    "data = [Line_graph, Bar_plot]\n",
    "fig = go.Figure(data=data, layout=layout)\n",
    "py.iplot(fig, filename='bar-line Multi_axis Graph')"
   ]
  },
  {
   "cell_type": "code",
   "execution_count": null,
   "metadata": {
    "collapsed": true
   },
   "outputs": [],
   "source": []
  }
 ],
 "metadata": {
  "kernelspec": {
   "display_name": "Python 3",
   "language": "python",
   "name": "python3"
  },
  "language_info": {
   "codemirror_mode": {
    "name": "ipython",
    "version": 3
   },
   "file_extension": ".py",
   "mimetype": "text/x-python",
   "name": "python",
   "nbconvert_exporter": "python",
   "pygments_lexer": "ipython3",
   "version": "3.5.2"
  }
 },
 "nbformat": 4,
 "nbformat_minor": 1
}
