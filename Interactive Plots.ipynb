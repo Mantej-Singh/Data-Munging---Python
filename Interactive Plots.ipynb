{
 "cells": [
  {
   "cell_type": "markdown",
   "metadata": {},
   "source": [
    "# Interactive Graphs"
   ]
  },
  {
   "cell_type": "code",
   "execution_count": 1,
   "metadata": {
    "collapsed": true
   },
   "outputs": [],
   "source": [
    "import pandas as pd"
   ]
  },
  {
   "cell_type": "code",
   "execution_count": 2,
   "metadata": {
    "collapsed": true
   },
   "outputs": [],
   "source": [
    "df=pd.read_csv('Capstone_Data.csv')"
   ]
  },
  {
   "cell_type": "code",
   "execution_count": 5,
   "metadata": {
    "collapsed": false
   },
   "outputs": [
    {
     "data": {
      "text/plain": [
       "User_ID                     int64\n",
       "Cardholder_Name            object\n",
       "Description                object\n",
       "Amount                    float64\n",
       "Vendor                     object\n",
       "Date                       object\n",
       "Merchant_Category_Code     object\n",
       "Month                      object\n",
       "dtype: object"
      ]
     },
     "execution_count": 5,
     "metadata": {},
     "output_type": "execute_result"
    }
   ],
   "source": [
    "df.dtypes"
   ]
  },
  {
   "cell_type": "code",
   "execution_count": 12,
   "metadata": {
    "collapsed": false
   },
   "outputs": [
    {
     "data": {
      "text/html": [
       "<div>\n",
       "<table border=\"1\" class=\"dataframe\">\n",
       "  <thead>\n",
       "    <tr style=\"text-align: right;\">\n",
       "      <th></th>\n",
       "      <th>User_ID</th>\n",
       "      <th>Cardholder_Name</th>\n",
       "      <th>Description</th>\n",
       "      <th>Amount</th>\n",
       "      <th>Vendor</th>\n",
       "      <th>Date</th>\n",
       "      <th>Merchant_Category_Code</th>\n",
       "      <th>Month</th>\n",
       "    </tr>\n",
       "  </thead>\n",
       "  <tbody>\n",
       "    <tr>\n",
       "      <th>0</th>\n",
       "      <td>1024</td>\n",
       "      <td>AARON</td>\n",
       "      <td>GENERAL PURCHASE</td>\n",
       "      <td>235.0</td>\n",
       "      <td>PBD IIA INTRNLAUDITORS</td>\n",
       "      <td>2014-01-21</td>\n",
       "      <td>BOOKS, PERIODICALS AND NEWSPAPERS</td>\n",
       "      <td>Jan</td>\n",
       "    </tr>\n",
       "    <tr>\n",
       "      <th>1</th>\n",
       "      <td>1024</td>\n",
       "      <td>AARON</td>\n",
       "      <td>GENERAL PURCHASE</td>\n",
       "      <td>890.0</td>\n",
       "      <td>FINANCIAL ACCOUNTING F</td>\n",
       "      <td>2014-02-04</td>\n",
       "      <td>CHARITABLE AND SOCIAL SERVICE ORGANIZATIONS</td>\n",
       "      <td>Apr</td>\n",
       "    </tr>\n",
       "    <tr>\n",
       "      <th>2</th>\n",
       "      <td>1024</td>\n",
       "      <td>AARON</td>\n",
       "      <td>GENERAL PURCHASE</td>\n",
       "      <td>265.0</td>\n",
       "      <td>PBD IIA INTRNLAUDITORS</td>\n",
       "      <td>2014-05-19</td>\n",
       "      <td>BOOKS, PERIODICALS AND NEWSPAPERS</td>\n",
       "      <td>May</td>\n",
       "    </tr>\n",
       "    <tr>\n",
       "      <th>3</th>\n",
       "      <td>85424</td>\n",
       "      <td>Abbott</td>\n",
       "      <td>GENERAL PURCHASE</td>\n",
       "      <td>390.0</td>\n",
       "      <td>COLLEGEBOARD PRODUCTS</td>\n",
       "      <td>2013-07-29</td>\n",
       "      <td>SCHOOLS AND EDUCATIONAL SERVICES NOT ELSEWHERE...</td>\n",
       "      <td>Jul</td>\n",
       "    </tr>\n",
       "    <tr>\n",
       "      <th>4</th>\n",
       "      <td>85424</td>\n",
       "      <td>Abbott</td>\n",
       "      <td>AIR TRAVEL</td>\n",
       "      <td>297.6</td>\n",
       "      <td>DELTA AIR   0062335020780</td>\n",
       "      <td>2013-07-05</td>\n",
       "      <td>DELTA</td>\n",
       "      <td>May</td>\n",
       "    </tr>\n",
       "  </tbody>\n",
       "</table>\n",
       "</div>"
      ],
      "text/plain": [
       "   User_ID Cardholder_Name       Description  Amount  \\\n",
       "0     1024           AARON  GENERAL PURCHASE   235.0   \n",
       "1     1024           AARON  GENERAL PURCHASE   890.0   \n",
       "2     1024           AARON  GENERAL PURCHASE   265.0   \n",
       "3    85424          Abbott  GENERAL PURCHASE   390.0   \n",
       "4    85424          Abbott        AIR TRAVEL   297.6   \n",
       "\n",
       "                      Vendor       Date  \\\n",
       "0     PBD IIA INTRNLAUDITORS 2014-01-21   \n",
       "1     FINANCIAL ACCOUNTING F 2014-02-04   \n",
       "2     PBD IIA INTRNLAUDITORS 2014-05-19   \n",
       "3      COLLEGEBOARD PRODUCTS 2013-07-29   \n",
       "4  DELTA AIR   0062335020780 2013-07-05   \n",
       "\n",
       "                              Merchant_Category_Code Month  \n",
       "0                  BOOKS, PERIODICALS AND NEWSPAPERS   Jan  \n",
       "1        CHARITABLE AND SOCIAL SERVICE ORGANIZATIONS   Apr  \n",
       "2                  BOOKS, PERIODICALS AND NEWSPAPERS   May  \n",
       "3  SCHOOLS AND EDUCATIONAL SERVICES NOT ELSEWHERE...   Jul  \n",
       "4                                              DELTA   May  "
      ]
     },
     "execution_count": 12,
     "metadata": {},
     "output_type": "execute_result"
    }
   ],
   "source": [
    "df.head()"
   ]
  },
  {
   "cell_type": "code",
   "execution_count": 11,
   "metadata": {
    "collapsed": false
   },
   "outputs": [],
   "source": [
    "df['Date']=pd.to_datetime(df['Date'])"
   ]
  },
  {
   "cell_type": "code",
   "execution_count": 14,
   "metadata": {
    "collapsed": false
   },
   "outputs": [
    {
     "data": {
      "text/plain": [
       "User_ID                            int64\n",
       "Cardholder_Name                   object\n",
       "Description                       object\n",
       "Amount                           float64\n",
       "Vendor                            object\n",
       "Date                      datetime64[ns]\n",
       "Merchant_Category_Code            object\n",
       "Month                             object\n",
       "dtype: object"
      ]
     },
     "execution_count": 14,
     "metadata": {},
     "output_type": "execute_result"
    }
   ],
   "source": [
    "df.dtypes"
   ]
  },
  {
   "cell_type": "code",
   "execution_count": 22,
   "metadata": {
    "collapsed": false
   },
   "outputs": [],
   "source": [
    "#pd.DatetimeIndex(df['Date']).month\n",
    "#df['month'] = df['Date'].dt.month\n",
    "#i was getting only numbers"
   ]
  },
  {
   "cell_type": "code",
   "execution_count": 37,
   "metadata": {
    "collapsed": false
   },
   "outputs": [],
   "source": [
    "df['Year_month']=df['Date'].apply(lambda x: x.strftime('%b-%y'))   "
   ]
  },
  {
   "cell_type": "code",
   "execution_count": 111,
   "metadata": {
    "collapsed": false
   },
   "outputs": [
    {
     "data": {
      "text/html": [
       "<div>\n",
       "<table border=\"1\" class=\"dataframe\">\n",
       "  <thead>\n",
       "    <tr style=\"text-align: right;\">\n",
       "      <th></th>\n",
       "      <th>User_ID</th>\n",
       "      <th>Cardholder_Name</th>\n",
       "      <th>Description</th>\n",
       "      <th>Amount</th>\n",
       "      <th>Vendor</th>\n",
       "      <th>Date</th>\n",
       "      <th>Merchant_Category_Code</th>\n",
       "      <th>Month</th>\n",
       "      <th>Year_month</th>\n",
       "    </tr>\n",
       "  </thead>\n",
       "  <tbody>\n",
       "    <tr>\n",
       "      <th>0</th>\n",
       "      <td>1024</td>\n",
       "      <td>AARON</td>\n",
       "      <td>GENERAL PURCHASE</td>\n",
       "      <td>235.0</td>\n",
       "      <td>PBD IIA INTRNLAUDITORS</td>\n",
       "      <td>2014-01-21</td>\n",
       "      <td>BOOKS, PERIODICALS AND NEWSPAPERS</td>\n",
       "      <td>Jan</td>\n",
       "      <td>Jan-14</td>\n",
       "    </tr>\n",
       "    <tr>\n",
       "      <th>1</th>\n",
       "      <td>1024</td>\n",
       "      <td>AARON</td>\n",
       "      <td>GENERAL PURCHASE</td>\n",
       "      <td>890.0</td>\n",
       "      <td>FINANCIAL ACCOUNTING F</td>\n",
       "      <td>2014-02-04</td>\n",
       "      <td>CHARITABLE AND SOCIAL SERVICE ORGANIZATIONS</td>\n",
       "      <td>Apr</td>\n",
       "      <td>Feb-14</td>\n",
       "    </tr>\n",
       "  </tbody>\n",
       "</table>\n",
       "</div>"
      ],
      "text/plain": [
       "   User_ID Cardholder_Name       Description  Amount                  Vendor  \\\n",
       "0     1024           AARON  GENERAL PURCHASE   235.0  PBD IIA INTRNLAUDITORS   \n",
       "1     1024           AARON  GENERAL PURCHASE   890.0  FINANCIAL ACCOUNTING F   \n",
       "\n",
       "        Date                       Merchant_Category_Code Month Year_month  \n",
       "0 2014-01-21            BOOKS, PERIODICALS AND NEWSPAPERS   Jan     Jan-14  \n",
       "1 2014-02-04  CHARITABLE AND SOCIAL SERVICE ORGANIZATIONS   Apr     Feb-14  "
      ]
     },
     "execution_count": 111,
     "metadata": {},
     "output_type": "execute_result"
    }
   ],
   "source": [
    "df[:2]"
   ]
  },
  {
   "cell_type": "markdown",
   "metadata": {},
   "source": [
    "### ADKINS is not equal to Adkin, that why i converted column 1 to lower case "
   ]
  },
  {
   "cell_type": "code",
   "execution_count": 110,
   "metadata": {
    "collapsed": false
   },
   "outputs": [
    {
     "data": {
      "text/html": [
       "<div>\n",
       "<table border=\"1\" class=\"dataframe\">\n",
       "  <thead>\n",
       "    <tr style=\"text-align: right;\">\n",
       "      <th></th>\n",
       "      <th>User_ID</th>\n",
       "      <th>Cardholder_Name</th>\n",
       "      <th>Description</th>\n",
       "      <th>Amount</th>\n",
       "      <th>Vendor</th>\n",
       "      <th>Date</th>\n",
       "      <th>Merchant_Category_Code</th>\n",
       "      <th>Month</th>\n",
       "      <th>Year_month</th>\n",
       "    </tr>\n",
       "  </thead>\n",
       "  <tbody>\n",
       "    <tr>\n",
       "      <th>1483</th>\n",
       "      <td>85928</td>\n",
       "      <td>ADKINS</td>\n",
       "      <td>SHARPWRITER MECH PEN DZ</td>\n",
       "      <td>11.86</td>\n",
       "      <td>OFFICEMAX CT IN#357326</td>\n",
       "      <td>2014-06-13</td>\n",
       "      <td>STATIONERY,OFFICE AND SCHOOL SUPPLY STORES</td>\n",
       "      <td>Jun</td>\n",
       "      <td>Jun-14</td>\n",
       "    </tr>\n",
       "  </tbody>\n",
       "</table>\n",
       "</div>"
      ],
      "text/plain": [
       "      User_ID Cardholder_Name              Description  Amount  \\\n",
       "1483    85928          ADKINS  SHARPWRITER MECH PEN DZ   11.86   \n",
       "\n",
       "                      Vendor       Date  \\\n",
       "1483  OFFICEMAX CT IN#357326 2014-06-13   \n",
       "\n",
       "                          Merchant_Category_Code Month Year_month  \n",
       "1483  STATIONERY,OFFICE AND SCHOOL SUPPLY STORES   Jun     Jun-14  "
      ]
     },
     "execution_count": 110,
     "metadata": {},
     "output_type": "execute_result"
    }
   ],
   "source": [
    "#This is the problem\n",
    "df[df.Cardholder_Name=='ADKINS']"
   ]
  },
  {
   "cell_type": "code",
   "execution_count": 114,
   "metadata": {
    "collapsed": false
   },
   "outputs": [],
   "source": [
    "df['Cardholder_Name']=df['Cardholder_Name'].str.lower()"
   ]
  },
  {
   "cell_type": "code",
   "execution_count": 118,
   "metadata": {
    "collapsed": false
   },
   "outputs": [
    {
     "data": {
      "text/plain": [
       "User_ID    4554184.00\n",
       "Amount       23604.53\n",
       "dtype: float64"
      ]
     },
     "execution_count": 118,
     "metadata": {},
     "output_type": "execute_result"
    }
   ],
   "source": [
    "df[df.Cardholder_Name=='adkins'].sum()"
   ]
  },
  {
   "cell_type": "code",
   "execution_count": 119,
   "metadata": {
    "collapsed": false
   },
   "outputs": [],
   "source": [
    "cardholder=df.groupby('Cardholder_Name').sum()"
   ]
  },
  {
   "cell_type": "code",
   "execution_count": 120,
   "metadata": {
    "collapsed": false
   },
   "outputs": [],
   "source": [
    "cardholder=cardholder.reset_index()"
   ]
  },
  {
   "cell_type": "code",
   "execution_count": 121,
   "metadata": {
    "collapsed": false
   },
   "outputs": [],
   "source": [
    "cardholder=cardholder.drop('User_ID',axis=1)"
   ]
  },
  {
   "cell_type": "code",
   "execution_count": 122,
   "metadata": {
    "collapsed": false
   },
   "outputs": [
    {
     "data": {
      "text/html": [
       "<div>\n",
       "<table border=\"1\" class=\"dataframe\">\n",
       "  <thead>\n",
       "    <tr style=\"text-align: right;\">\n",
       "      <th></th>\n",
       "      <th>Cardholder_Name</th>\n",
       "      <th>Amount</th>\n",
       "    </tr>\n",
       "  </thead>\n",
       "  <tbody>\n",
       "    <tr>\n",
       "      <th>0</th>\n",
       "      <td>aaron</td>\n",
       "      <td>1390.00</td>\n",
       "    </tr>\n",
       "    <tr>\n",
       "      <th>1</th>\n",
       "      <td>abbott</td>\n",
       "      <td>47931.25</td>\n",
       "    </tr>\n",
       "    <tr>\n",
       "      <th>2</th>\n",
       "      <td>abdolvand</td>\n",
       "      <td>7462.99</td>\n",
       "    </tr>\n",
       "    <tr>\n",
       "      <th>3</th>\n",
       "      <td>abernathy</td>\n",
       "      <td>31778.72</td>\n",
       "    </tr>\n",
       "    <tr>\n",
       "      <th>4</th>\n",
       "      <td>abid</td>\n",
       "      <td>57.45</td>\n",
       "    </tr>\n",
       "  </tbody>\n",
       "</table>\n",
       "</div>"
      ],
      "text/plain": [
       "  Cardholder_Name    Amount\n",
       "0           aaron   1390.00\n",
       "1          abbott  47931.25\n",
       "2       abdolvand   7462.99\n",
       "3       abernathy  31778.72\n",
       "4            abid     57.45"
      ]
     },
     "execution_count": 122,
     "metadata": {},
     "output_type": "execute_result"
    }
   ],
   "source": [
    "cardholder.head()"
   ]
  },
  {
   "cell_type": "code",
   "execution_count": 52,
   "metadata": {
    "collapsed": false
   },
   "outputs": [],
   "source": [
    "%matplotlib inline"
   ]
  },
  {
   "cell_type": "code",
   "execution_count": 131,
   "metadata": {
    "collapsed": false
   },
   "outputs": [],
   "source": [
    "#cardholder.boxplot(column='Amount', by = 'Cardholder_Name')"
   ]
  },
  {
   "cell_type": "code",
   "execution_count": 55,
   "metadata": {
    "collapsed": false
   },
   "outputs": [],
   "source": [
    "#cardholder.plot(kind='bar')"
   ]
  },
  {
   "cell_type": "code",
   "execution_count": 56,
   "metadata": {
    "collapsed": false
   },
   "outputs": [],
   "source": [
    "import plotly.plotly as py\n",
    "import plotly.graph_objs as go\n",
    "#Setting plotly credentials\n",
    "py.sign_in('mantejsingh','hQnYIqbxnsuRvQxkVFVW')"
   ]
  },
  {
   "cell_type": "code",
   "execution_count": 123,
   "metadata": {
    "collapsed": false
   },
   "outputs": [],
   "source": [
    "data = [go.Scatter(x=cardholder['Cardholder_Name'],y=cardholder['Amount'])]"
   ]
  },
  {
   "cell_type": "code",
   "execution_count": 126,
   "metadata": {
    "collapsed": true
   },
   "outputs": [],
   "source": [
    "layout = go.Layout(\n",
    "title='CardHolders Amount',\n",
    "xaxis=dict(title='Amount_Frequency'),\n",
    "yaxis=dict(title='Count')\n",
    ")"
   ]
  },
  {
   "cell_type": "code",
   "execution_count": 127,
   "metadata": {
    "collapsed": false
   },
   "outputs": [
    {
     "data": {
      "text/html": [
       "<iframe id=\"igraph\" scrolling=\"no\" style=\"border:none;\" seamless=\"seamless\" src=\"https://plot.ly/~mantejsingh/74.embed\" height=\"525px\" width=\"100%\"></iframe>"
      ],
      "text/plain": [
       "<plotly.tools.PlotlyDisplay object>"
      ]
     },
     "execution_count": 127,
     "metadata": {},
     "output_type": "execute_result"
    }
   ],
   "source": [
    "fig = go.Figure(data=data, layout=layout)\n",
    "py.iplot(fig,filename='InteractiveGraph_1')"
   ]
  },
  {
   "cell_type": "code",
   "execution_count": null,
   "metadata": {
    "collapsed": true
   },
   "outputs": [],
   "source": []
  }
 ],
 "metadata": {
  "kernelspec": {
   "display_name": "Python 3",
   "language": "python",
   "name": "python3"
  },
  "language_info": {
   "codemirror_mode": {
    "name": "ipython",
    "version": 3
   },
   "file_extension": ".py",
   "mimetype": "text/x-python",
   "name": "python",
   "nbconvert_exporter": "python",
   "pygments_lexer": "ipython3",
   "version": "3.5.2"
  }
 },
 "nbformat": 4,
 "nbformat_minor": 1
}
