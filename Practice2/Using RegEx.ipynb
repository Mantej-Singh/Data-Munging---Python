{
 "cells": [
  {
   "cell_type": "code",
   "execution_count": 1,
   "metadata": {
    "collapsed": true
   },
   "outputs": [],
   "source": [
    "import pandas as pd"
   ]
  },
  {
   "cell_type": "code",
   "execution_count": 2,
   "metadata": {
    "collapsed": true
   },
   "outputs": [],
   "source": [
    "df=pd.read_excel(\"Demo_data.xlsx\")"
   ]
  },
  {
   "cell_type": "code",
   "execution_count": 3,
   "metadata": {
    "collapsed": false
   },
   "outputs": [
    {
     "data": {
      "text/html": [
       "<div>\n",
       "<table border=\"1\" class=\"dataframe\">\n",
       "  <thead>\n",
       "    <tr style=\"text-align: right;\">\n",
       "      <th></th>\n",
       "      <th>Campaign_Name</th>\n",
       "      <th>Extracted_Field</th>\n",
       "    </tr>\n",
       "  </thead>\n",
       "  <tbody>\n",
       "    <tr>\n",
       "      <th>0</th>\n",
       "      <td>2016_00_InboundWeb_Request_A_Demo</td>\n",
       "      <td>InboundWeb</td>\n",
       "    </tr>\n",
       "    <tr>\n",
       "      <th>1</th>\n",
       "      <td>2016_04_PPC_Google_Generic</td>\n",
       "      <td>PPC_Google</td>\n",
       "    </tr>\n",
       "    <tr>\n",
       "      <th>2</th>\n",
       "      <td>2016_04_PPC_Google_Cloud</td>\n",
       "      <td>CPC_Google</td>\n",
       "    </tr>\n",
       "    <tr>\n",
       "      <th>3</th>\n",
       "      <td>2016_04_PPC_Google_Analytics</td>\n",
       "      <td>A_Google</td>\n",
       "    </tr>\n",
       "    <tr>\n",
       "      <th>4</th>\n",
       "      <td>2016_04_PPC_Google_Adwords</td>\n",
       "      <td>Ad_Google</td>\n",
       "    </tr>\n",
       "  </tbody>\n",
       "</table>\n",
       "</div>"
      ],
      "text/plain": [
       "                       Campaign_Name Extracted_Field\n",
       "0  2016_00_InboundWeb_Request_A_Demo      InboundWeb\n",
       "1         2016_04_PPC_Google_Generic      PPC_Google\n",
       "2           2016_04_PPC_Google_Cloud      CPC_Google\n",
       "3       2016_04_PPC_Google_Analytics        A_Google\n",
       "4         2016_04_PPC_Google_Adwords       Ad_Google"
      ]
     },
     "execution_count": 3,
     "metadata": {},
     "output_type": "execute_result"
    }
   ],
   "source": [
    "df.head()"
   ]
  },
  {
   "cell_type": "markdown",
   "metadata": {},
   "source": [
    "## RegEx and Split"
   ]
  },
  {
   "cell_type": "markdown",
   "metadata": {},
   "source": [
    "### I want everything after 2nd  till 4th underscore"
   ]
  },
  {
   "cell_type": "code",
   "execution_count": 26,
   "metadata": {
    "collapsed": false
   },
   "outputs": [],
   "source": [
    "df[\"Campaign_Title\"]=df.Campaign_Name.str.split('_').apply(lambda x: x[2] + '_' + x[3]+x[4])"
   ]
  },
  {
   "cell_type": "code",
   "execution_count": 11,
   "metadata": {
    "collapsed": false
   },
   "outputs": [
    {
     "data": {
      "text/html": [
       "<div>\n",
       "<table border=\"1\" class=\"dataframe\">\n",
       "  <thead>\n",
       "    <tr style=\"text-align: right;\">\n",
       "      <th></th>\n",
       "      <th>Campaign_Name</th>\n",
       "      <th>Extracted_Field</th>\n",
       "      <th>Campaign_Title</th>\n",
       "    </tr>\n",
       "  </thead>\n",
       "  <tbody>\n",
       "    <tr>\n",
       "      <th>0</th>\n",
       "      <td>2016_00_InboundWeb_Request_A_Demo</td>\n",
       "      <td>InboundWeb</td>\n",
       "      <td>InboundWeb_RequestA</td>\n",
       "    </tr>\n",
       "    <tr>\n",
       "      <th>1</th>\n",
       "      <td>2016_04_PPC_Google_Generic</td>\n",
       "      <td>PPC_Google</td>\n",
       "      <td>PPC_GoogleGeneric</td>\n",
       "    </tr>\n",
       "    <tr>\n",
       "      <th>2</th>\n",
       "      <td>2016_04_PPC_Google_Cloud</td>\n",
       "      <td>CPC_Google</td>\n",
       "      <td>PPC_GoogleCloud</td>\n",
       "    </tr>\n",
       "    <tr>\n",
       "      <th>3</th>\n",
       "      <td>2016_04_PPC_Google_Analytics</td>\n",
       "      <td>A_Google</td>\n",
       "      <td>PPC_GoogleAnalytics</td>\n",
       "    </tr>\n",
       "    <tr>\n",
       "      <th>4</th>\n",
       "      <td>2016_04_PPC_Google_Adwords</td>\n",
       "      <td>Ad_Google</td>\n",
       "      <td>PPC_GoogleAdwords</td>\n",
       "    </tr>\n",
       "  </tbody>\n",
       "</table>\n",
       "</div>"
      ],
      "text/plain": [
       "                       Campaign_Name Extracted_Field       Campaign_Title\n",
       "0  2016_00_InboundWeb_Request_A_Demo      InboundWeb  InboundWeb_RequestA\n",
       "1         2016_04_PPC_Google_Generic      PPC_Google    PPC_GoogleGeneric\n",
       "2           2016_04_PPC_Google_Cloud      CPC_Google      PPC_GoogleCloud\n",
       "3       2016_04_PPC_Google_Analytics        A_Google  PPC_GoogleAnalytics\n",
       "4         2016_04_PPC_Google_Adwords       Ad_Google    PPC_GoogleAdwords"
      ]
     },
     "execution_count": 11,
     "metadata": {},
     "output_type": "execute_result"
    }
   ],
   "source": [
    "df.head()"
   ]
  },
  {
   "cell_type": "code",
   "execution_count": 9,
   "metadata": {
    "collapsed": false
   },
   "outputs": [
    {
     "data": {
      "text/plain": [
       "0    InboundWeb_RequestA\n",
       "1      PPC_GoogleGeneric\n",
       "2        PPC_GoogleCloud\n",
       "3    PPC_GoogleAnalytics\n",
       "4      PPC_GoogleAdwords\n",
       "Name: Campaign_Name, dtype: object"
      ]
     },
     "execution_count": 9,
     "metadata": {},
     "output_type": "execute_result"
    }
   ],
   "source": [
    "df.Campaign_Name.str.split('_').apply(lambda x: x[2] + '_' + x[3]+x[4])"
   ]
  },
  {
   "cell_type": "markdown",
   "metadata": {},
   "source": [
    "## Reindexing "
   ]
  },
  {
   "cell_type": "markdown",
   "metadata": {},
   "source": [
    "### Now i want \"A_Google\" on top with \"Ad_Google\" on second index"
   ]
  },
  {
   "cell_type": "code",
   "execution_count": 21,
   "metadata": {
    "collapsed": false
   },
   "outputs": [],
   "source": [
    "df.set_index([[2,3,4,0,1]],inplace=True)"
   ]
  },
  {
   "cell_type": "code",
   "execution_count": 27,
   "metadata": {
    "collapsed": false
   },
   "outputs": [],
   "source": [
    "df=df.sort_index()"
   ]
  },
  {
   "cell_type": "code",
   "execution_count": 28,
   "metadata": {
    "collapsed": false
   },
   "outputs": [
    {
     "data": {
      "text/html": [
       "<div>\n",
       "<table border=\"1\" class=\"dataframe\">\n",
       "  <thead>\n",
       "    <tr style=\"text-align: right;\">\n",
       "      <th></th>\n",
       "      <th>Campaign_Name</th>\n",
       "      <th>Extracted_Field</th>\n",
       "      <th>Campaign_Title</th>\n",
       "    </tr>\n",
       "  </thead>\n",
       "  <tbody>\n",
       "    <tr>\n",
       "      <th>0</th>\n",
       "      <td>2016_04_PPC_Google_Analytics</td>\n",
       "      <td>A_Google</td>\n",
       "      <td>PPC_GoogleAnalytics</td>\n",
       "    </tr>\n",
       "    <tr>\n",
       "      <th>1</th>\n",
       "      <td>2016_04_PPC_Google_Adwords</td>\n",
       "      <td>Ad_Google</td>\n",
       "      <td>PPC_GoogleAdwords</td>\n",
       "    </tr>\n",
       "    <tr>\n",
       "      <th>2</th>\n",
       "      <td>2016_00_InboundWeb_Request_A_Demo</td>\n",
       "      <td>InboundWeb</td>\n",
       "      <td>InboundWeb_RequestA</td>\n",
       "    </tr>\n",
       "    <tr>\n",
       "      <th>3</th>\n",
       "      <td>2016_04_PPC_Google_Generic</td>\n",
       "      <td>PPC_Google</td>\n",
       "      <td>PPC_GoogleGeneric</td>\n",
       "    </tr>\n",
       "    <tr>\n",
       "      <th>4</th>\n",
       "      <td>2016_04_PPC_Google_Cloud</td>\n",
       "      <td>CPC_Google</td>\n",
       "      <td>PPC_GoogleCloud</td>\n",
       "    </tr>\n",
       "  </tbody>\n",
       "</table>\n",
       "</div>"
      ],
      "text/plain": [
       "                       Campaign_Name Extracted_Field       Campaign_Title\n",
       "0       2016_04_PPC_Google_Analytics        A_Google  PPC_GoogleAnalytics\n",
       "1         2016_04_PPC_Google_Adwords       Ad_Google    PPC_GoogleAdwords\n",
       "2  2016_00_InboundWeb_Request_A_Demo      InboundWeb  InboundWeb_RequestA\n",
       "3         2016_04_PPC_Google_Generic      PPC_Google    PPC_GoogleGeneric\n",
       "4           2016_04_PPC_Google_Cloud      CPC_Google      PPC_GoogleCloud"
      ]
     },
     "execution_count": 28,
     "metadata": {},
     "output_type": "execute_result"
    }
   ],
   "source": [
    "df.head()"
   ]
  },
  {
   "cell_type": "code",
   "execution_count": null,
   "metadata": {
    "collapsed": true
   },
   "outputs": [],
   "source": []
  }
 ],
 "metadata": {
  "kernelspec": {
   "display_name": "Python 3",
   "language": "python",
   "name": "python3"
  },
  "language_info": {
   "codemirror_mode": {
    "name": "ipython",
    "version": 3
   },
   "file_extension": ".py",
   "mimetype": "text/x-python",
   "name": "python",
   "nbconvert_exporter": "python",
   "pygments_lexer": "ipython3",
   "version": "3.5.2"
  }
 },
 "nbformat": 4,
 "nbformat_minor": 1
}
